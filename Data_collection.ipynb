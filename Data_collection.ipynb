{
 "cells": [
  {
   "cell_type": "code",
   "execution_count": 1,
   "metadata": {},
   "outputs": [],
   "source": [
    "import cv2\n",
    "import numpy as np\n",
    "import os\n",
    "from matplotlib import pyplot as pyplot\n",
    "import time\n",
    "import mediapipe as mp"
   ]
  },
  {
   "cell_type": "markdown",
   "metadata": {},
   "source": [
    "**variable setup**"
   ]
  },
  {
   "cell_type": "code",
   "execution_count": 2,
   "metadata": {},
   "outputs": [],
   "source": [
    "mp_holistic = mp.solutions.holistic # holistic module\n",
    "mp_drawing = mp.solutions.drawing_utils # drawing utilities\n",
    "\n",
    "def mediapipe_detection(image,model):\n",
    "  image = cv2.cvtColor(image,cv2.COLOR_BGR2RGB) # color conversion\n",
    "  image.flags.writeable = False\n",
    "  results = model.process(image) # process image\n",
    "  image.flags.writeable = True\n",
    "  image = cv2.cvtColor(image,cv2.COLOR_RGB2BGR) # color conversion\n",
    "  return image,results\n",
    "\n",
    "def draw_landmarks(image,result):\n",
    "  mp_drawing.draw_landmarks(image,result.face_landmarks,mp_holistic.FACEMESH_CONTOURS,\n",
    "                            mp_drawing.DrawingSpec(color=(80,110,10),thickness=1,circle_radius=1),\n",
    "                            mp_drawing.DrawingSpec(color=(80,256,10),thickness=1,circle_radius=1))\n",
    "  mp_drawing.draw_landmarks(image,result.pose_landmarks,mp_holistic.POSE_CONNECTIONS)\n",
    "  mp_drawing.draw_landmarks(image,result.left_hand_landmarks,mp_holistic.HAND_CONNECTIONS)\n",
    "  mp_drawing.draw_landmarks(image,result.right_hand_landmarks,mp_holistic.HAND_CONNECTIONS)\n",
    "\n",
    "def extract_keypoint(result):\n",
    "  pose = np.array([[res.x,res.y,res.z,res.visibility] for res in result.pose_landmarks.landmark]).flatten() if result.pose_landmarks else np.zeros(33*4)\n",
    "  face = np.array([[res.x,res.y,res.z] for res in result.face_landmarks.landmark]).flatten() if result.face_landmarks else np.zeros(468*3)\n",
    "  left_hand = np.array([[res.x,res.y,res.z] for res in result.left_hand_landmarks.landmark]).flatten() if result.left_hand_landmarks else np.zeros(21*3)\n",
    "  right_hand = np.array([[res.x,res.y,res.z] for res in result.right_hand_landmarks.landmark]).flatten() if result.right_hand_landmarks else np.zeros(21*3)\n",
    "  return np.concatenate([pose,face,left_hand,right_hand])"
   ]
  },
  {
   "cell_type": "code",
   "execution_count": 3,
   "metadata": {},
   "outputs": [],
   "source": [
    "#read all word and pack it in array\n",
    "DATA_PATH = os.path.join(\"DATA_LIB\")\n",
    "with open(\"word_list.txt\") as file:\n",
    "  action = file.readlines()\n",
    "for i,word in enumerate(action):\n",
    "  action[i] = word.replace(\"\\n\",\"\")\n",
    "actions = np.array(action) # meaning of the pose\n",
    "# no_sequences = 30 # take 30 video to collect data for each action\n",
    "sequence_length = 30 # 30 frames to detect what is going on"
   ]
  },
  {
   "cell_type": "code",
   "execution_count": 4,
   "metadata": {},
   "outputs": [],
   "source": [
    "# use to create folder only\n",
    "os.mkdir(\"DATA_LIB\")\n",
    "for action in actions:\n",
    "  os.mkdir(os.path.join(DATA_PATH,action))\n"
   ]
  },
  {
   "cell_type": "markdown",
   "metadata": {},
   "source": [
    "*Video Feed*"
   ]
  },
  {
   "cell_type": "code",
   "execution_count": 5,
   "metadata": {},
   "outputs": [],
   "source": [
    "#select action\n",
    "action = \"test\"\n",
    "no_sequences = 10\n",
    "if no_sequences>0:\n",
    "  cap = cv2.VideoCapture(0) #default camera\n",
    "  with mp_holistic.Holistic(min_detection_confidence=0.5, min_tracking_confidence=0.5) as holitic:\n",
    "    \n",
    "    ids = 0\n",
    "    while os.path.exists(os.path.join(DATA_PATH,action,str(ids))):\n",
    "      ids+=1\n",
    "    for sequence in range(ids,no_sequences+ids):\n",
    "      try:\n",
    "        os.makedirs(os.path.join(DATA_PATH,action,str(sequence)))\n",
    "        for frame_num in range(sequence_length):\n",
    "          ret,frame = cap.read() #read frame from webcam\n",
    "          #make pipe detection\n",
    "          image,result = mediapipe_detection(frame, holitic)\n",
    "          draw_landmarks(image,result)\n",
    "\n",
    "          #show which pic is being collected\n",
    "          if frame_num == 0:\n",
    "            cv2.putText(image,\"3\",(120,200),cv2.FONT_HERSHEY_SIMPLEX,0.5,(0,0,255),4,cv2.LINE_AA)\n",
    "            cv2.waitKey(1000)\n",
    "            cv2.putText(image,\"2\",(120,200),cv2.FONT_HERSHEY_SIMPLEX,0.5,(0,0,255),4,cv2.LINE_AA)\n",
    "            cv2.waitKey(1000)\n",
    "            cv2.putText(image,\"1\",(120,200),cv2.FONT_HERSHEY_SIMPLEX,0.5,(0,0,255),4,cv2.LINE_AA)\n",
    "            cv2.waitKey(1000)\n",
    "          cv2.putText(image,f\"{action} : {sequence}\",(15,12),cv2.FONT_HERSHEY_SIMPLEX,0.5,(0,0,255),1,cv2.LINE_4)\n",
    "\n",
    "          cv2.imshow(\"Camera\",image) #show on screen\n",
    "\n",
    "          # write data to path\n",
    "          keypoint = extract_keypoint(result)\n",
    "          npy_path = os.path.join(DATA_PATH,action,str(sequence),str(frame_num))\n",
    "          np.save(npy_path,keypoint)\n",
    "\n",
    "          if cv2.waitKey(10) & 0xff == ord('q'): # if q or close is pressed break\n",
    "            break\n",
    "      except:\n",
    "        cap.release()  # disconnect webcam\n",
    "        cv2.destroyAllWindows()\n",
    "        break\n",
    "  cap.release()  # disconnect webcam\n",
    "  cv2.destroyAllWindows()\n",
    "else:\n",
    "  print(\"input sequences\")\n",
    "\n",
    "   #close window"
   ]
  },
  {
   "cell_type": "code",
   "execution_count": null,
   "metadata": {},
   "outputs": [],
   "source": [
    "cap.release()  # disconnect webcam\n",
    "cv2.destroyAllWindows()"
   ]
  }
 ],
 "metadata": {
  "kernelspec": {
   "display_name": "Python 3.7.13 ('tf37')",
   "language": "python",
   "name": "python3"
  },
  "language_info": {
   "codemirror_mode": {
    "name": "ipython",
    "version": 3
   },
   "file_extension": ".py",
   "mimetype": "text/x-python",
   "name": "python",
   "nbconvert_exporter": "python",
   "pygments_lexer": "ipython3",
   "version": "3.7.13"
  },
  "orig_nbformat": 4,
  "vscode": {
   "interpreter": {
    "hash": "631757eae16c918b2614678df3acf682a4ac1e7ba5e72d77371e585ab12f7dcf"
   }
  }
 },
 "nbformat": 4,
 "nbformat_minor": 2
}
